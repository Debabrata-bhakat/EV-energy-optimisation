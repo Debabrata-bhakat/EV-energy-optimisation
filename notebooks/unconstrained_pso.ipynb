{
  "nbformat": 4,
  "nbformat_minor": 0,
  "metadata": {
    "colab": {
      "provenance": [],
      "collapsed_sections": []
    },
    "kernelspec": {
      "name": "python3",
      "display_name": "Python 3"
    },
    "language_info": {
      "name": "python"
    }
  },
  "cells": [
    {
      "cell_type": "markdown",
      "source": [
        "## Import libraries"
      ],
      "metadata": {
        "id": "0FM9xZhqwq0o"
      }
    },
    {
      "cell_type": "code",
      "execution_count": 1,
      "metadata": {
        "id": "u-w1KUONWyAF"
      },
      "outputs": [],
      "source": [
        "import random\n",
        "import numpy as np\n",
        "from matplotlib import pyplot as plt\n",
        "from matplotlib import animation\n",
        "from numpy.random import randint\n",
        "from numpy.random import rand\n",
        "from scipy.interpolate import interp1d\n",
        "from scipy.interpolate import interp2d\n",
        "from scipy.integrate import quad\n",
        "from scipy.integrate import solve_ivp\n",
        "from scipy.integrate import cumulative_trapezoid\n",
        "import math\n",
        "# https://www.geeksforgeeks.org/cubic-spline-interpolation/#:~:text=Cubic%20spline%20interpolation%20is%20a,second%20derivatives%20where%20they%20join.\n",
        "from scipy.interpolate import CubicSpline"
      ]
    },
    {
      "cell_type": "markdown",
      "source": [
        "## Finding out energy"
      ],
      "metadata": {
        "id": "CWWCbwd7wuVu"
      }
    },
    {
      "cell_type": "code",
      "source": [
        "# constant parameters\n",
        "mass = 100\n",
        "Urr = 0.03\n",
        "g = 9.81\n",
        "a0=1\n",
        "a1=1\n",
        "a2=1\n",
        "points = 400\n",
        "wheel_radius = 0.3\n",
        "gear_ratio = 5\n",
        "\n",
        "torque_max = 7000\n",
        "rpm_max = 1700\n",
        "\n",
        "def interpolate(x_data, y_data, num_points, plot=False):\n",
        "  # y_f = interp1d(x_data, y_data, 'cubic')\n",
        "  y_f = CubicSpline(x_data,y_data)\n",
        "  x = np.linspace(x_data[0],x_data[-1],num_points)\n",
        "  y = y_f(x)\n",
        "  # Plotting\n",
        "  if plot:\n",
        "    plt.scatter(x,y,marker=\".\")\n",
        "    plt.scatter(x_data,y_data,c=\"red\")\n",
        "    plt.ylabel(\"Velocity\")\n",
        "    plt.show()\n",
        "  return x,y\n",
        "\n",
        "# function to integrate\n",
        "def integrate(x_data, y_data,plot=False):\n",
        "  integral = cumulative_trapezoid(y_data,x_data, initial=0)\n",
        "  # plt.plot(x_data, integral)\n",
        "  # plt.xlabel('Time [ns]')\n",
        "  # plt.ylabel('Integrated Current [pC]')\n",
        "  # plt.show()\n",
        "  return integral[-1]\n",
        "\n",
        "# finding out accelration\n",
        "def fun_acc(inter_disp, inter_vel):\n",
        "  acceleration = np.gradient(inter_vel,inter_disp) * inter_vel\n",
        "  return acceleration\n",
        "\n",
        "# Constraints on acceleration\n",
        "def acc_min_constraint(vel_s):\n",
        "  acc_s = fun_acc(vel_s)\n",
        "  return acc_s + 4\n",
        "def acc_max_constraint(vel_s):\n",
        "  acc_s = fun_acc(vel_s)\n",
        "  return acc_s-3\n",
        "\n",
        "\n",
        "# function to find traction force\n",
        "def fun_traction_force(velocity, acceleration):\n",
        "  return mass*g*(a0+a1*velocity+a2*velocity*velocity) + mass*acceleration\n",
        "  # return mass*g*(a0+a1*velocity+a2*velocity*velocity)\n",
        "\n",
        "# function to find total energy\n",
        "def fun_total_energy(traction_force,displacement):\n",
        "  energy = integrate(x_data=displacement, y_data=traction_force)\n",
        "  return energy\n",
        "\n",
        "# functions to find efficiency\n",
        "def eff_helper(x,y):\n",
        "  k=92\n",
        "  # check for values out of range\n",
        "  if(x>=k or y>=k or x<=0 or y<=0): \n",
        "    return 0\n",
        "  return (k-x)**0.18*(k-y)**0.18/100 if x+y>70 else (x)**0.2*(y)**0.2/100 \n",
        "def find_eff(motor_torque, motor_rpm):\n",
        "  x = motor_torque/torque_max*100\n",
        "  y = motor_rpm/rpm_max*100\n",
        "  # x = [i/torque_max*100 for i in motor_torque]\n",
        "  # y = [i/rpm_max*100 for i in motor_rpm]\n",
        "  k = 92\n",
        "  row = len(x)\n",
        "  z = [eff_helper(x[i],y[i]) for i in range(len(x))]\n",
        "  z = np.array(z)\n",
        "  z = z*25\n",
        "  return z\n",
        "\n",
        "# fitness function\n",
        "def fitness_function(displacement, velocity, plot=False):\n",
        "  # interpolate\n",
        "  inter_disp,inter_vel=interpolate(displacement, velocity, points, plot=plot)\n",
        "  # check if vel negative then return a very high value\n",
        "  for x in np.nditer(inter_vel):\n",
        "    if(x<0): \n",
        "      return 10000000\n",
        "  # find acceleration\n",
        "  acceleration = fun_acc(inter_disp=inter_disp,inter_vel=inter_vel)\n",
        "  # find traction force\n",
        "  traction_force = fun_traction_force(velocity=inter_vel,acceleration=acceleration)\n",
        "  # if traction force is negative make it zero\n",
        "  traction_force = [0 if _<0 else _ for _ in traction_force]\n",
        "  # find motor torque and rpm and efficiency\n",
        "  # np_traction_force = np.array(traction_force)\n",
        "  motor_torque = np.array(traction_force) * wheel_radius / gear_ratio \n",
        "  motor_rpm = np.absolute(np.array(inter_vel)) / wheel_radius * gear_ratio * 60 / 2 / math.pi \n",
        "  elec_eff = find_eff(motor_torque, motor_rpm) + 0.1\n",
        "  # find output force\n",
        "  traction_force = np.array(traction_force)/(elec_eff)\n",
        "  # find total energy\n",
        "  total_energy = fun_total_energy(traction_force=traction_force,displacement=inter_disp) \n",
        "  \n",
        "  return total_energy/1000\n"
      ],
      "metadata": {
        "id": "rSQ0IQsIa0Iu"
      },
      "execution_count": 2,
      "outputs": []
    },
    {
      "cell_type": "code",
      "source": [
        "# declaring velocity points\n",
        "displacement = [0,25,50,75,125,150,175,225,250,275,325,350,375,400]\n",
        "def gen_random_velocity():\n",
        "  velocity = [0]\n",
        "  for i in range(3):\n",
        "    velocity.append(randint(5,10))\n",
        "  for i in range(3):\n",
        "    velocity.append(randint(5,10))\n",
        "  for i in range(3):\n",
        "    velocity.append(randint(5,10))\n",
        "  for i in range(3):\n",
        "    velocity.append(randint(5,10))\n",
        "  velocity.append(0)\n",
        "  return velocity\n"
      ],
      "metadata": {
        "id": "iKQn-AVoXDN4"
      },
      "execution_count": 3,
      "outputs": []
    },
    {
      "cell_type": "code",
      "source": [
        "# vel = gen_random_velocity()\n",
        "disp, inter_vel = interpolate(displacement, vel, 400, plot=True)\n",
        "acceleration = fun_acc(inter_disp=disp,inter_vel=inter_vel)\n",
        "trac_force = fun_traction_force(velocity=inter_vel,acceleration=acceleration)\n",
        "plt.scatter(disp,trac_force)\n",
        "plt.ylabel(\"Input trac force\")\n",
        "plt.show()\n",
        "print(max(trac_force))\n",
        "trac_force_input = [0 if _<0 else _ for _ in trac_force]\n",
        "motor_torque = np.array(trac_force_input) * wheel_radius / gear_ratio \n",
        "motor_rpm = np.absolute(np.array(inter_vel)) / wheel_radius * gear_ratio * 60 / 2 / math.pi \n",
        "# elec_eff = motor_torque * motor_rpm / 1000000\n",
        "# trac_force_output = np.array(trac_force_input)/(elec_eff+0.1)\n",
        "# plt.scatter(disp,motor_torque)\n",
        "# plt.ylabel(\"motor_torque\")\n",
        "# plt.show()\n",
        "# print(np.amax(trac_force))\n",
        "# plt.scatter(disp,motor_rpm)\n",
        "# plt.ylabel(\"motor_rpm\")\n",
        "# plt.show()\n",
        "# total_energy = fun_total_energy(traction_force=trac_force_output,displacement=disp)\n",
        "# total_energy\n",
        "elec_eff = find_eff(motor_torque, motor_rpm) + 0.1\n",
        "plt.scatter(disp, elec_eff)\n",
        "plt.ylabel(\"Eff\")\n",
        "plt.show()\n",
        "traction_force_output = trac_force_input/(elec_eff)\n",
        "plt.scatter(disp, traction_force_output)\n",
        "plt.ylabel(\"TF output\")\n",
        "total_energy1 = fun_total_energy(traction_force=traction_force_output,displacement=disp) \n",
        "print(total_energy1/1000)"
      ],
      "metadata": {
        "colab": {
          "base_uri": "https://localhost:8080/",
          "height": 1000
        },
        "id": "Yc5Udwk9o58U",
        "outputId": "b13c6bb0-02f2-4ada-fdcf-4f2f8a382cef"
      },
      "execution_count": 15,
      "outputs": [
        {
          "output_type": "display_data",
          "data": {
            "text/plain": [
              "<Figure size 432x288 with 1 Axes>"
            ],
            "image/png": "[encoded data removed]"
          },
          "metadata": {
            "needs_background": "light"
          }
        },
        {
          "output_type": "display_data",
          "data": {
            "text/plain": [
              "<Figure size 432x288 with 1 Axes>"
            ],
            "image/png": "[encoded data removed]"
          },
          "metadata": {
            "needs_background": "light"
          }
        },
        {
          "output_type": "stream",
          "name": "stdout",
          "text": [
            "1215.9440587256033\n"
          ]
        },
        {
          "output_type": "display_data",
          "data": {
            "text/plain": [
              "<Figure size 432x288 with 1 Axes>"
            ],
            "image/png": "[encoded data removed]"
          },
          "metadata": {
            "needs_background": "light"
          }
        },
        {
          "output_type": "stream",
          "name": "stdout",
          "text": [
            "1264.2483556684608\n"
          ]
        },
        {
          "output_type": "display_data",
          "data": {
            "text/plain": [
              "<Figure size 432x288 with 1 Axes>"
            ],
            "image/png": "[encoded data removed]"
          },
          "metadata": {
            "needs_background": "light"
          }
        }
      ]
    },
    {
      "cell_type": "code",
      "source": [
        "total_energy1 = fun_total_energy(traction_force=traction_force_output,displacement=disp) \n",
        "stall_vel = 0.2\n",
        "vel2 = [0,stall_vel,stall_vel,stall_vel,stall_vel,stall_vel,stall_vel,stall_vel,stall_vel,stall_vel,stall_vel,stall_vel,stall_vel,0]\n",
        "disp, inter_vel = interpolate(displacement, vel2, 400, plot=True)\n",
        "acceleration = fun_acc(inter_disp=disp,inter_vel=inter_vel)\n",
        "trac_force = fun_traction_force(velocity=inter_vel,acceleration=acceleration)\n",
        "# plt.scatter(disp,trac_force)\n",
        "# plt.ylabel(\"Input trac force\")\n",
        "# plt.show()\n",
        "print(max(trac_force))\n",
        "trac_force_input = [0 if _<0 else _ for _ in trac_force]\n",
        "motor_torque = np.array(trac_force_input) * wheel_radius / gear_ratio \n",
        "motor_rpm = np.absolute(np.array(inter_vel)) / wheel_radius * gear_ratio * 60 / 2 / math.pi \n",
        "\n",
        "plt.scatter(disp,motor_torque)\n",
        "plt.ylabel(\"motor_torque\")\n",
        "plt.show()\n",
        "\n",
        "plt.scatter(disp,motor_rpm)\n",
        "plt.ylabel(\"motor_rpm\")\n",
        "plt.show()\n",
        "elec_eff = find_eff(motor_torque, motor_rpm) + 0.1\n",
        "plt.scatter(disp, elec_eff)\n",
        "plt.show()\n",
        "traction_force_output = trac_force_input/(elec_eff)\n",
        "plt.scatter(disp, traction_force_output)\n",
        "total_energy2 = fun_total_energy(traction_force=traction_force_output,displacement=disp) \n",
        "# print(total_energy1)\n",
        "print(total_energy2/1000)"
      ],
      "metadata": {
        "colab": {
          "base_uri": "https://localhost:8080/",
          "height": 1000
        },
        "id": "MeafuJHycPAA",
        "outputId": "e43415e3-c3e5-4a9e-c4b8-b5ad544953e4"
      },
      "execution_count": 12,
      "outputs": [
        {
          "output_type": "display_data",
          "data": {
            "text/plain": [
              "<Figure size 432x288 with 1 Axes>"
            ],
            "image/png": "[encoded data removed]"
          },
          "metadata": {
            "needs_background": "light"
          }
        },
        {
          "output_type": "stream",
          "name": "stdout",
          "text": [
            "1230.0814910297956\n"
          ]
        },
        {
          "output_type": "display_data",
          "data": {
            "text/plain": [
              "<Figure size 432x288 with 1 Axes>"
            ],
            "image/png": "[encoded data removed]"
          },
          "metadata": {
            "needs_background": "light"
          }
        },
        {
          "output_type": "display_data",
          "data": {
            "text/plain": [
              "<Figure size 432x288 with 1 Axes>"
            ],
            "image/png": "[encoded data removed]"
          },
          "metadata": {
            "needs_background": "light"
          }
        },
        {
          "output_type": "display_data",
          "data": {
            "text/plain": [
              "<Figure size 432x288 with 1 Axes>"
            ],
            "image/png": "[encoded data removed]"
          },
          "metadata": {
            "needs_background": "light"
          }
        },
        {
          "output_type": "stream",
          "name": "stdout",
          "text": [
            "1270.966817705785\n"
          ]
        },
        {
          "output_type": "display_data",
          "data": {
            "text/plain": [
              "<Figure size 432x288 with 1 Axes>"
            ],
            "image/png": "[encoded data removed]"
          },
          "metadata": {
            "needs_background": "light"
          }
        }
      ]
    },
    {
      "cell_type": "code",
      "source": [
        "a = np.array([43,6,7,8,4])\n",
        "for x in np.nditer(a):\n",
        "  print(x)"
      ],
      "metadata": {
        "colab": {
          "base_uri": "https://localhost:8080/"
        },
        "id": "z-v0EAjV6Cen",
        "outputId": "13ee09f4-22da-48f0-a5b3-1f5419f95998"
      },
      "execution_count": 47,
      "outputs": [
        {
          "output_type": "stream",
          "name": "stdout",
          "text": [
            "43\n",
            "6\n",
            "7\n",
            "8\n",
            "4\n"
          ]
        }
      ]
    },
    {
      "cell_type": "markdown",
      "source": [
        "## Modules for PSO"
      ],
      "metadata": {
        "id": "iG2W5uUJw22O"
      }
    },
    {
      "cell_type": "code",
      "source": [
        "def update_velocity(particle, velocity, pbest, gbest, w_min=0.5, max=1.0, c=0.5):\n",
        "  # Initialise new velocity array\n",
        "  num_particle = len(particle)\n",
        "  new_velocity = np.array([0.0 for i in range(num_particle)])\n",
        "  # Randomly generate r1, r2 and inertia weight from normal distribution\n",
        "  r1 = random.uniform(0,max)\n",
        "  r2 = random.uniform(0,max)\n",
        "  w = random.uniform(w_min,max)\n",
        "  c1 = c\n",
        "  c2 = c*2\n",
        "  # Calculate new velocity\n",
        "  for i in range(num_particle):\n",
        "    new_velocity[i] = w*velocity[i] + c1*r1*(pbest[i]-particle[i])+c2*r2*(gbest[i]-particle[i])\n",
        "  return new_velocity\n",
        "\n",
        "def update_position(particle, velocity):\n",
        "  # Move particles by adding velocity\n",
        "  new_particle = particle + velocity\n",
        "  return new_particle\n",
        "\n",
        "def pso_2d(population, dimension, generation, displacement):\n",
        "  # Initialisation\n",
        "  # Population\n",
        "  # particles = [[random.uniform(position_min, position_max) for j in range(dimension)] for i in range(population)]\n",
        "  particles = [gen_random_velocity() for i in range(population)]\n",
        "  # Particle's best position\n",
        "  pbest_position = particles\n",
        "  # Fitness\n",
        "  pbest_fitness = [fitness_function(displacement=displacement,velocity=p) for p in particles]\n",
        "  # Index of the best particle\n",
        "  gbest_index = np.argmin(pbest_fitness)\n",
        "  # Global best particle position\n",
        "  # print(pbest_fitness[0])\n",
        "  # print(len(pbest_fitness[0]))\n",
        "  # print(gbest_index)\n",
        "  gbest_position = pbest_position[gbest_index]\n",
        "  # Velocity (starting from 0 speed)\n",
        "  velocity = [[0.0 for j in range(dimension)] for i in range(population)]\n",
        "  avg_fitness = [np.inf]\n",
        "  # Loop for the number of generation\n",
        "  for t in range(generation):\n",
        "    print(f\"Generation: {t} avg_fitness: {avg_fitness[-1]}\")\n",
        "    print(abs(np.average(pbest_fitness)-min(avg_fitness)))\n",
        "    print(f\"avererage of pbest_fitness: {np.average(pbest_fitness)}      min of averega fitness: {min(avg_fitness)}\")\n",
        "    # print(f\"p_best_fitness: {pbest_fitness}\")\n",
        "    # print(f\"avg_fitness: {avg_fitness}\")\n",
        "    # Stop if the average fitness value reached a predefined success criterion\n",
        "    # if np.average(pbest_fitness) <= fitness_criterion:\n",
        "    if abs(np.average(pbest_fitness)-min(avg_fitness))<100:\n",
        "      break\n",
        "    else:\n",
        "      for n in range(population):\n",
        "        # Update the velocity of each particle\n",
        "        velocity[n] = update_velocity(particles[n], velocity[n], pbest_position[n], gbest_position)\n",
        "        # Move the particles to new position\n",
        "        particles[n] = update_position(particles[n], velocity[n])\n",
        "    # Calculate the fitness value\n",
        "    pbest_fitness = [fitness_function(displacement=displacement,velocity=p) for p in particles]\n",
        "    # append to avg_fitness\n",
        "    avg_fitness.append(min(pbest_fitness))\n",
        "    # Find the index of the best particle\n",
        "    gbest_index = np.argmin(pbest_fitness)\n",
        "    # Update the position of the best particle\n",
        "    gbest_position = pbest_position[gbest_index]\n",
        "\n",
        "  # Print the results\n",
        "  print('Global Best Position: ', gbest_position)\n",
        "  print('Best Fitness Value: ', min(pbest_fitness))\n",
        "  print('Average Particle Best Fitness Value: ', np.average(pbest_fitness))\n",
        "  print('Number of Generation: ', t)\n",
        "  return gbest_position"
      ],
      "metadata": {
        "id": "8-9N87rUZRsg"
      },
      "execution_count": 13,
      "outputs": []
    },
    {
      "cell_type": "code",
      "source": [
        "population = 1000\n",
        "dimension = len(gen_random_velocity())\n",
        "generation = 100\n",
        "vel = pso_2d(population, dimension, generation, displacement)"
      ],
      "metadata": {
        "id": "WRVlZc78xKxr",
        "colab": {
          "base_uri": "https://localhost:8080/"
        },
        "outputId": "ed1bcabf-f5fb-46ea-df3a-6d19a016c0b3"
      },
      "execution_count": 14,
      "outputs": [
        {
          "output_type": "stream",
          "name": "stdout",
          "text": [
            "Generation: 0 avg_fitness: inf\n",
            "inf\n",
            "avererage of pbest_fitness: 5343707.209257633      min of averega fitness: inf\n",
            "Generation: 1 avg_fitness: 14113.886857747153\n",
            "4995169.329963111\n",
            "avererage of pbest_fitness: 5009283.216820858      min of averega fitness: 14113.886857747153\n",
            "Generation: 2 avg_fitness: 9620.170103640861\n",
            "6146023.688822473\n",
            "avererage of pbest_fitness: 6155643.858926115      min of averega fitness: 9620.170103640861\n",
            "Generation: 3 avg_fitness: 7544.24364855797\n",
            "7904920.3550233245\n",
            "avererage of pbest_fitness: 7912464.598671882      min of averega fitness: 7544.24364855797\n",
            "Generation: 4 avg_fitness: 6207.869476400581\n",
            "9334392.839790313\n",
            "avererage of pbest_fitness: 9340600.709266713      min of averega fitness: 6207.869476400581\n",
            "Generation: 5 avg_fitness: 6685.463207921637\n",
            "9903863.74246521\n",
            "avererage of pbest_fitness: 9910071.61194161      min of averega fitness: 6207.869476400581\n",
            "Generation: 6 avg_fitness: 6134.107018265903\n",
            "9973880.639261737\n",
            "avererage of pbest_fitness: 9980014.746280003      min of averega fitness: 6134.107018265903\n",
            "Generation: 7 avg_fitness: 5715.297961285964\n",
            "9534615.061856823\n",
            "avererage of pbest_fitness: 9540330.359818108      min of averega fitness: 5715.297961285964\n",
            "Generation: 8 avg_fitness: 5517.482186744744\n",
            "8336204.880281433\n",
            "avererage of pbest_fitness: 8341722.362468178      min of averega fitness: 5517.482186744744\n",
            "Generation: 9 avg_fitness: 4831.006383471855\n",
            "6398816.510957476\n",
            "avererage of pbest_fitness: 6403647.517340948      min of averega fitness: 4831.006383471855\n",
            "Generation: 10 avg_fitness: 4098.039211259214\n",
            "5550006.189463744\n",
            "avererage of pbest_fitness: 5554104.228675003      min of averega fitness: 4098.039211259214\n",
            "Generation: 11 avg_fitness: 3972.2192489334516\n",
            "6608477.762421675\n",
            "avererage of pbest_fitness: 6612449.981670609      min of averega fitness: 3972.2192489334516\n",
            "Generation: 12 avg_fitness: 3261.856590427386\n",
            "8547743.490861978\n",
            "avererage of pbest_fitness: 8551005.347452406      min of averega fitness: 3261.856590427386\n",
            "Generation: 13 avg_fitness: 3016.1360312272727\n",
            "9447274.99364953\n",
            "avererage of pbest_fitness: 9450291.129680756      min of averega fitness: 3016.1360312272727\n",
            "Generation: 14 avg_fitness: 2591.275033035609\n",
            "9377615.252771817\n",
            "avererage of pbest_fitness: 9380206.527804853      min of averega fitness: 2591.275033035609\n",
            "Generation: 15 avg_fitness: 2388.6898048988796\n",
            "9757680.157108646\n",
            "avererage of pbest_fitness: 9760068.846913544      min of averega fitness: 2388.6898048988796\n",
            "Generation: 16 avg_fitness: 1848.8544734963787\n",
            "8458533.554357685\n",
            "avererage of pbest_fitness: 8460382.408831181      min of averega fitness: 1848.8544734963787\n",
            "Generation: 17 avg_fitness: 1900.031989767542\n",
            "9798197.269068794\n",
            "avererage of pbest_fitness: 9800046.12354229      min of averega fitness: 1848.8544734963787\n",
            "Generation: 18 avg_fitness: 1864.5698538155502\n",
            "9948162.327663707\n",
            "avererage of pbest_fitness: 9950011.182137202      min of averega fitness: 1848.8544734963787\n",
            "Generation: 19 avg_fitness: 1870.2867338127699\n",
            "9888180.033726234\n",
            "avererage of pbest_fitness: 9890028.88819973      min of averega fitness: 1848.8544734963787\n",
            "Generation: 20 avg_fitness: 1698.4941311304633\n",
            "9038501.031114034\n",
            "avererage of pbest_fitness: 9040199.525245165      min of averega fitness: 1698.4941311304633\n",
            "Generation: 21 avg_fitness: 1665.5552691222451\n",
            "9068530.20887956\n",
            "avererage of pbest_fitness: 9070195.764148682      min of averega fitness: 1665.5552691222451\n",
            "Generation: 22 avg_fitness: 1633.7596897310361\n",
            "9228521.528680103\n",
            "avererage of pbest_fitness: 9230155.288369834      min of averega fitness: 1633.7596897310361\n",
            "Generation: 23 avg_fitness: 1607.5592429312724\n",
            "9538481.794707859\n",
            "avererage of pbest_fitness: 9540089.353950791      min of averega fitness: 1607.5592429312724\n",
            "Generation: 24 avg_fitness: 1589.52110096228\n",
            "9578481.708321363\n",
            "avererage of pbest_fitness: 9580071.229422325      min of averega fitness: 1589.52110096228\n",
            "Generation: 25 avg_fitness: 1557.4965929090931\n",
            "9488526.827612093\n",
            "avererage of pbest_fitness: 9490084.324205002      min of averega fitness: 1557.4965929090931\n",
            "Generation: 26 avg_fitness: 1542.6368439212395\n",
            "9688512.208026165\n",
            "avererage of pbest_fitness: 9690054.844870087      min of averega fitness: 1542.6368439212395\n",
            "Generation: 27 avg_fitness: 1514.7395254288867\n",
            "9538563.400138274\n",
            "avererage of pbest_fitness: 9540078.139663702      min of averega fitness: 1514.7395254288867\n",
            "Generation: 28 avg_fitness: 1503.119054346992\n",
            "9488579.974553555\n",
            "avererage of pbest_fitness: 9490083.093607903      min of averega fitness: 1503.119054346992\n",
            "Generation: 29 avg_fitness: 1463.0846229549975\n",
            "9498614.907815328\n",
            "avererage of pbest_fitness: 9500077.992438283      min of averega fitness: 1463.0846229549975\n",
            "Generation: 30 avg_fitness: 1444.3239691678416\n",
            "9398645.881816706\n",
            "avererage of pbest_fitness: 9400090.205785874      min of averega fitness: 1444.3239691678416\n",
            "Generation: 31 avg_fitness: 1430.5216217830878\n",
            "9368663.326887678\n",
            "avererage of pbest_fitness: 9370093.84850946      min of averega fitness: 1430.5216217830878\n",
            "Generation: 32 avg_fitness: 1407.475012890337\n",
            "9578654.005243171\n",
            "avererage of pbest_fitness: 9580061.480256062      min of averega fitness: 1407.475012890337\n",
            "Generation: 33 avg_fitness: 1390.940868131124\n",
            "9408693.459526751\n",
            "avererage of pbest_fitness: 9410084.400394883      min of averega fitness: 1390.940868131124\n",
            "Generation: 34 avg_fitness: 1369.0825958626747\n",
            "8788800.936673265\n",
            "avererage of pbest_fitness: 8790170.019269127      min of averega fitness: 1369.0825958626747\n",
            "Generation: 35 avg_fitness: 1350.632564040225\n",
            "7798955.835340516\n",
            "avererage of pbest_fitness: 7800306.467904556      min of averega fitness: 1350.632564040225\n",
            "Generation: 36 avg_fitness: 1331.90903629716\n",
            "7169054.835524614\n",
            "avererage of pbest_fitness: 7170386.744560911      min of averega fitness: 1331.90903629716\n",
            "Generation: 37 avg_fitness: 1322.7876846632175\n",
            "7399028.29413679\n",
            "avererage of pbest_fitness: 7400351.081821453      min of averega fitness: 1322.7876846632175\n",
            "Generation: 38 avg_fitness: 1316.9910386560668\n",
            "8588872.032969633\n",
            "avererage of pbest_fitness: 8590189.024008289      min of averega fitness: 1316.9910386560668\n",
            "Generation: 39 avg_fitness: 1305.1092629780721\n",
            "8758860.18054982\n",
            "avererage of pbest_fitness: 8760165.2898128      min of averega fitness: 1305.1092629780721\n",
            "Generation: 40 avg_fitness: 1294.5962713961494\n",
            "8388916.766343761\n",
            "avererage of pbest_fitness: 8390211.362615157      min of averega fitness: 1294.5962713961494\n",
            "Generation: 41 avg_fitness: 1287.6671722530334\n",
            "7539033.542945953\n",
            "avererage of pbest_fitness: 7540321.210118206      min of averega fitness: 1287.6671722530334\n",
            "Generation: 42 avg_fitness: 1282.5817942174406\n",
            "6979109.831415427\n",
            "avererage of pbest_fitness: 6980392.413209644      min of averega fitness: 1282.5817942174406\n",
            "Generation: 43 avg_fitness: 1279.168556442889\n",
            "6379189.5610367255\n",
            "avererage of pbest_fitness: 6380468.729593168      min of averega fitness: 1279.168556442889\n",
            "Generation: 44 avg_fitness: 1274.4077678947538\n",
            "6099227.684084414\n",
            "avererage of pbest_fitness: 6100502.091852308      min of averega fitness: 1274.4077678947538\n",
            "Generation: 45 avg_fitness: 1271.374317091373\n",
            "5709280.345414659\n",
            "avererage of pbest_fitness: 5710551.71973175      min of averega fitness: 1271.374317091373\n",
            "Generation: 46 avg_fitness: 1270.660205340169\n",
            "5269335.662140527\n",
            "avererage of pbest_fitness: 5270606.322345867      min of averega fitness: 1270.660205340169\n",
            "Generation: 47 avg_fitness: 1270.7492775015053\n",
            "5179346.943815768\n",
            "avererage of pbest_fitness: 5180617.604021108      min of averega fitness: 1270.660205340169\n",
            "Generation: 48 avg_fitness: 1271.352949551927\n",
            "5399318.788251918\n",
            "avererage of pbest_fitness: 5400589.448457258      min of averega fitness: 1270.660205340169\n",
            "Generation: 49 avg_fitness: 1270.1041070918918\n",
            "4999370.226117101\n",
            "avererage of pbest_fitness: 5000640.330224193      min of averega fitness: 1270.1041070918918\n",
            "Generation: 50 avg_fitness: 1270.0097125350576\n",
            "4949375.05302671\n",
            "avererage of pbest_fitness: 4950645.062739245      min of averega fitness: 1270.0097125350576\n",
            "Generation: 51 avg_fitness: 1268.4911053160515\n",
            "4699408.392047704\n",
            "avererage of pbest_fitness: 4700676.88315302      min of averega fitness: 1268.4911053160515\n",
            "Generation: 52 avg_fitness: 1267.9818888265477\n",
            "4369449.893483113\n",
            "avererage of pbest_fitness: 4370717.8753719395      min of averega fitness: 1267.9818888265477\n",
            "Generation: 53 avg_fitness: 1267.2650360514265\n",
            "4189472.8981824517\n",
            "avererage of pbest_fitness: 4190740.1632185034      min of averega fitness: 1267.2650360514265\n",
            "Generation: 54 avg_fitness: 1267.0585507558583\n",
            "4229467.863659229\n",
            "avererage of pbest_fitness: 4230734.922209985      min of averega fitness: 1267.0585507558583\n",
            "Generation: 55 avg_fitness: 1266.4195952894418\n",
            "4099484.006015682\n",
            "avererage of pbest_fitness: 4100750.4256109716      min of averega fitness: 1266.4195952894418\n",
            "Generation: 56 avg_fitness: 1265.8689427103745\n",
            "4149477.766877476\n",
            "avererage of pbest_fitness: 4150743.6358201867      min of averega fitness: 1265.8689427103745\n",
            "Generation: 57 avg_fitness: 1265.5685635179084\n",
            "4289460.025664501\n",
            "avererage of pbest_fitness: 4290725.594228019      min of averega fitness: 1265.5685635179084\n",
            "Generation: 58 avg_fitness: 1265.3908310726135\n",
            "4469437.004834891\n",
            "avererage of pbest_fitness: 4470702.395665964      min of averega fitness: 1265.3908310726135\n",
            "Generation: 59 avg_fitness: 1264.9810188666681\n",
            "4389446.579176158\n",
            "avererage of pbest_fitness: 4390711.560195024      min of averega fitness: 1264.9810188666681\n",
            "Generation: 60 avg_fitness: 1264.8205679744647\n",
            "4419442.895522129\n",
            "avererage of pbest_fitness: 4420707.716090104      min of averega fitness: 1264.8205679744647\n",
            "Generation: 61 avg_fitness: 1264.687258894831\n",
            "4169474.5611409494\n",
            "avererage of pbest_fitness: 4170739.2483998444      min of averega fitness: 1264.687258894831\n",
            "Generation: 62 avg_fitness: 1264.5257493244299\n",
            "4489434.096976798\n",
            "avererage of pbest_fitness: 4490698.622726123      min of averega fitness: 1264.5257493244299\n",
            "Generation: 63 avg_fitness: 1264.4406069125662\n",
            "4189471.7025190466\n",
            "avererage of pbest_fitness: 4190736.143125959      min of averega fitness: 1264.4406069125662\n",
            "Generation: 64 avg_fitness: 1264.3813858279375\n",
            "4079485.3460945375\n",
            "avererage of pbest_fitness: 4080749.7274803654      min of averega fitness: 1264.3813858279375\n",
            "Generation: 65 avg_fitness: 1264.3616357710694\n",
            "3939503.0308626513\n",
            "avererage of pbest_fitness: 3940767.3924984224      min of averega fitness: 1264.3616357710694\n",
            "Generation: 66 avg_fitness: 1264.3678408450605\n",
            "3959500.4725167435\n",
            "avererage of pbest_fitness: 3960764.8341525146      min of averega fitness: 1264.3616357710694\n",
            "Generation: 67 avg_fitness: 1264.3240254741554\n",
            "4209468.692581446\n",
            "avererage of pbest_fitness: 4210733.01660692      min of averega fitness: 1264.3240254741554\n",
            "Generation: 68 avg_fitness: 1264.3313524032974\n",
            "4129478.685137708\n",
            "avererage of pbest_fitness: 4130743.009163182      min of averega fitness: 1264.3240254741554\n",
            "Generation: 69 avg_fitness: 1264.3160838747706\n",
            "3909506.500979155\n",
            "avererage of pbest_fitness: 3910770.8170630294      min of averega fitness: 1264.3160838747706\n",
            "Generation: 70 avg_fitness: 1264.317453263971\n",
            "3649539.2106560757\n",
            "avererage of pbest_fitness: 3650803.5267399503      min of averega fitness: 1264.3160838747706\n",
            "Generation: 71 avg_fitness: 1264.2917382144171\n",
            "4199469.663171666\n",
            "avererage of pbest_fitness: 4200733.95490988      min of averega fitness: 1264.2917382144171\n",
            "Generation: 72 avg_fitness: 1264.2948780901306\n",
            "4139477.034118517\n",
            "avererage of pbest_fitness: 4140741.3258567313      min of averega fitness: 1264.2917382144171\n",
            "Generation: 73 avg_fitness: 1264.297212447178\n",
            "3789521.382765913\n",
            "avererage of pbest_fitness: 3790785.6745041274      min of averega fitness: 1264.2917382144171\n",
            "Generation: 74 avg_fitness: 1264.2938127491686\n",
            "4049488.410965751\n",
            "avererage of pbest_fitness: 4050752.7027039654      min of averega fitness: 1264.2917382144171\n",
            "Generation: 75 avg_fitness: 1264.2991839092108\n",
            "4109480.7263283827\n",
            "avererage of pbest_fitness: 4110745.018066597      min of averega fitness: 1264.2917382144171\n",
            "Generation: 76 avg_fitness: 1264.2898665342814\n",
            "4089483.252712118\n",
            "avererage of pbest_fitness: 4090747.542578652      min of averega fitness: 1264.2898665342814\n",
            "Generation: 77 avg_fitness: 1264.2865348025068\n",
            "3939502.146209552\n",
            "avererage of pbest_fitness: 3940766.4327443545      min of averega fitness: 1264.2865348025068\n",
            "Generation: 78 avg_fitness: 1264.2745545759428\n",
            "3609543.818386291\n",
            "avererage of pbest_fitness: 3610808.092940867      min of averega fitness: 1264.2745545759428\n",
            "Generation: 79 avg_fitness: 1264.2738604545052\n",
            "3849513.4181209393\n",
            "avererage of pbest_fitness: 3850777.691981394      min of averega fitness: 1264.2738604545052\n",
            "Generation: 80 avg_fitness: 1264.2722216066481\n",
            "3949500.8201560434\n",
            "avererage of pbest_fitness: 3950765.09237765      min of averega fitness: 1264.2722216066481\n",
            "Generation: 81 avg_fitness: 1264.2640657665238\n",
            "4049488.097434291\n",
            "avererage of pbest_fitness: 4050752.361500058      min of averega fitness: 1264.2640657665238\n",
            "Generation: 82 avg_fitness: 1264.2618925425274\n",
            "3789520.951483786\n",
            "avererage of pbest_fitness: 3790785.213376329      min of averega fitness: 1264.2618925425274\n",
            "Generation: 83 avg_fitness: 1264.2607550615885\n",
            "4159474.1974387704\n",
            "avererage of pbest_fitness: 4160738.458193832      min of averega fitness: 1264.2607550615885\n",
            "Generation: 84 avg_fitness: 1264.2605726210186\n",
            "3949500.7611140558\n",
            "avererage of pbest_fitness: 3950765.021686677      min of averega fitness: 1264.2605726210186\n",
            "Generation: 85 avg_fitness: 1264.2585918096304\n",
            "4149475.4183827215\n",
            "avererage of pbest_fitness: 4150739.6769745313      min of averega fitness: 1264.2585918096304\n",
            "Generation: 86 avg_fitness: 1264.2561102454952\n",
            "4079484.2390061393\n",
            "avererage of pbest_fitness: 4080748.4951163847      min of averega fitness: 1264.2561102454952\n",
            "Generation: 87 avg_fitness: 1264.2552042956033\n",
            "4169472.8567706505\n",
            "avererage of pbest_fitness: 4170737.111974946      min of averega fitness: 1264.2552042956033\n",
            "Generation: 88 avg_fitness: 1264.2540227188765\n",
            "3729528.5100760437\n",
            "avererage of pbest_fitness: 3730792.7640987625      min of averega fitness: 1264.2540227188765\n",
            "Generation: 89 avg_fitness: 1264.254008901106\n",
            "4069485.4916214747\n",
            "avererage of pbest_fitness: 4070749.745630376      min of averega fitness: 1264.254008901106\n",
            "Generation: 90 avg_fitness: 1264.254268603963\n",
            "4119479.1725240173\n",
            "avererage of pbest_fitness: 4120743.4265329186      min of averega fitness: 1264.254008901106\n",
            "Generation: 91 avg_fitness: 1264.2520136903981\n",
            "4039489.309685364\n",
            "avererage of pbest_fitness: 4040753.561699054      min of averega fitness: 1264.2520136903981\n",
            "Generation: 92 avg_fitness: 1264.2514672568202\n",
            "3929503.2291478543\n",
            "avererage of pbest_fitness: 3930767.480615111      min of averega fitness: 1264.2514672568202\n",
            "Generation: 93 avg_fitness: 1264.250640587345\n",
            "4089482.9397885534\n",
            "avererage of pbest_fitness: 4090747.190429141      min of averega fitness: 1264.250640587345\n",
            "Generation: 94 avg_fitness: 1264.2508659460314\n",
            "3939501.9990338683\n",
            "avererage of pbest_fitness: 3940766.2496744557      min of averega fitness: 1264.250640587345\n",
            "Generation: 95 avg_fitness: 1264.2504866845486\n",
            "3959499.376018936\n",
            "avererage of pbest_fitness: 3960763.6265056203      min of averega fitness: 1264.2504866845486\n",
            "Generation: 96 avg_fitness: 1264.2502965042954\n",
            "4109480.4087860137\n",
            "avererage of pbest_fitness: 4110744.659082518      min of averega fitness: 1264.2502965042954\n",
            "Generation: 97 avg_fitness: 1264.2496391633902\n",
            "3939501.8982030456\n",
            "avererage of pbest_fitness: 3940766.147842209      min of averega fitness: 1264.2496391633902\n",
            "Generation: 98 avg_fitness: 1264.2485035358748\n",
            "4299456.385480868\n",
            "avererage of pbest_fitness: 4300720.633984404      min of averega fitness: 1264.2485035358748\n",
            "Generation: 99 avg_fitness: 1264.2485661560477\n",
            "4379446.272338674\n",
            "avererage of pbest_fitness: 4380710.52084221      min of averega fitness: 1264.2485035358748\n",
            "Global Best Position:  [0.         0.19742105 0.13397283 0.1580961  0.14600916 0.15824331\n",
            " 0.15503602 0.15563809 0.15738936 0.14472392 0.15838876 0.13437955\n",
            " 0.19931407 0.        ]\n",
            "Best Fitness Value:  1264.2483556684608\n",
            "Average Particle Best Fitness Value:  4090747.2165586106\n",
            "Number of Generation:  99\n"
          ]
        }
      ]
    },
    {
      "cell_type": "code",
      "source": [
        "vel"
      ],
      "metadata": {
        "colab": {
          "base_uri": "https://localhost:8080/"
        },
        "id": "4cmBXSzGhGN1",
        "outputId": "33245537-97ce-4672-acf0-b0b6a2813a92"
      },
      "execution_count": 35,
      "outputs": [
        {
          "output_type": "execute_result",
          "data": {
            "text/plain": [
              "array([ 0.00000000e+00, -9.04788361e-02, -4.43554785e-01, -5.68191421e-01,\n",
              "       -5.56960487e-01, -8.98723290e-02, -1.18620063e+00, -1.33275967e+00,\n",
              "        2.87707455e+00,  2.32923907e+02,  1.39722822e+03,  4.35427584e+02,\n",
              "        5.29554151e+00,  0.00000000e+00])"
            ]
          },
          "metadata": {},
          "execution_count": 35
        }
      ]
    },
    {
      "cell_type": "code",
      "source": [],
      "metadata": {
        "id": "3sg-7xPthG9f"
      },
      "execution_count": null,
      "outputs": []
    }
  ]
}